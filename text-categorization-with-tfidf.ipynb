{
 "cells": [
  {
   "cell_type": "code",
   "execution_count": 1,
   "id": "63f4586c",
   "metadata": {},
   "outputs": [],
   "source": [
    "# data from  https://catalog.data.gov/dataset/consumer-complaint-database"
   ]
  },
  {
   "cell_type": "code",
   "execution_count": 2,
   "id": "b48ac880",
   "metadata": {},
   "outputs": [],
   "source": [
    "# !unzip ../data/complaints.csv.zip"
   ]
  },
  {
   "cell_type": "markdown",
   "id": "1b112c70",
   "metadata": {},
   "source": [
    "# Application of TF-IDF technique for text categorization\n",
    "In this notebook we test the methode of TF-IDF feature to do text categorization. The text data will be bank complaints and we will aim to sort them between different products.\n",
    "\n",
    "As the TF-IDF methode only allow to vectorize the text data we will still need to apply a machine learning algorithm on it.\n",
    "We will test the following algorithm :\n",
    "- Random Forest\n",
    "- Linear SVC\n",
    "- Multinomial Naive Bayesian\n",
    "- Logistic Regression"
   ]
  },
  {
   "cell_type": "markdown",
   "id": "091b4651",
   "metadata": {},
   "source": [
    "## Imports\n",
    "We will use:\n",
    "- pandas and numpy for data handling\n",
    "- seaborn and matplotlib for visualisation\n",
    "- sklearn for feature generation, modeling and metrics"
   ]
  },
  {
   "cell_type": "code",
   "execution_count": 3,
   "id": "1e83fb42",
   "metadata": {},
   "outputs": [
    {
     "name": "stdout",
     "output_type": "stream",
     "text": [
      "['complaints.csv', '.ipynb_checkpoints']\n"
     ]
    }
   ],
   "source": [
    "# Input data files are available in the \"../data/\" directory.\n",
    "import os\n",
    "print(os.listdir(\"../data\"))\n",
    "\n",
    "import pandas as pd\n",
    "import numpy as np\n",
    "\n",
    "import seaborn as sns # used for plot interactive graph. \n",
    "import matplotlib.pyplot as plt\n",
    "import seaborn as sns\n",
    "from IPython.display import display\n",
    "from io import StringIO\n",
    "\n",
    "from sklearn.feature_extraction.text import TfidfVectorizer\n",
    "from sklearn.feature_selection import chi2\n",
    "from sklearn.model_selection import train_test_split\n",
    "from sklearn.feature_extraction.text import TfidfTransformer\n",
    "from sklearn.naive_bayes import MultinomialNB\n",
    "from sklearn.linear_model import LogisticRegression\n",
    "from sklearn.ensemble import RandomForestClassifier\n",
    "from sklearn.svm import LinearSVC\n",
    "from sklearn.model_selection import cross_val_score\n",
    "from sklearn.metrics import confusion_matrix\n",
    "from sklearn import metrics\n"
   ]
  },
  {
   "cell_type": "code",
   "execution_count": 4,
   "id": "cffb7e34",
   "metadata": {},
   "outputs": [
    {
     "data": {
      "text/plain": [
       "'/home/jupyter/nlp/src'"
      ]
     },
     "execution_count": 4,
     "metadata": {},
     "output_type": "execute_result"
    }
   ],
   "source": [
    "os.getcwd()"
   ]
  },
  {
   "cell_type": "markdown",
   "id": "7bc00763",
   "metadata": {},
   "source": [
    "## Data Loading \n",
    "We didn't load the whole dataframe as some lines from the zip file were corupted. We still ended up with more than 600K lines, which is more than enough for our usecase."
   ]
  },
  {
   "cell_type": "code",
   "execution_count": 5,
   "id": "f7f4587c",
   "metadata": {},
   "outputs": [
    {
     "data": {
      "text/plain": [
       "(626953, 18)"
      ]
     },
     "execution_count": 5,
     "metadata": {},
     "output_type": "execute_result"
    }
   ],
   "source": [
    "# loading data\n",
    "complaints_df_v0 = pd.read_csv('../data/complaints.csv')\n",
    "complaints_df_v0.shape"
   ]
  },
  {
   "cell_type": "code",
   "execution_count": 6,
   "id": "f9648999",
   "metadata": {},
   "outputs": [
    {
     "data": {
      "text/html": [
       "<div>\n",
       "<style scoped>\n",
       "    .dataframe tbody tr th:only-of-type {\n",
       "        vertical-align: middle;\n",
       "    }\n",
       "\n",
       "    .dataframe tbody tr th {\n",
       "        vertical-align: top;\n",
       "    }\n",
       "\n",
       "    .dataframe thead th {\n",
       "        text-align: right;\n",
       "    }\n",
       "</style>\n",
       "<table border=\"1\" class=\"dataframe\">\n",
       "  <thead>\n",
       "    <tr style=\"text-align: right;\">\n",
       "      <th></th>\n",
       "      <th>Date received</th>\n",
       "      <th>Product</th>\n",
       "      <th>Sub-product</th>\n",
       "      <th>Issue</th>\n",
       "      <th>Sub-issue</th>\n",
       "      <th>Consumer complaint narrative</th>\n",
       "      <th>Company public response</th>\n",
       "      <th>Company</th>\n",
       "      <th>State</th>\n",
       "      <th>ZIP code</th>\n",
       "      <th>Tags</th>\n",
       "      <th>Consumer consent provided?</th>\n",
       "      <th>Submitted via</th>\n",
       "      <th>Date sent to company</th>\n",
       "      <th>Company response to consumer</th>\n",
       "      <th>Timely response?</th>\n",
       "      <th>Consumer disputed?</th>\n",
       "      <th>Complaint ID</th>\n",
       "    </tr>\n",
       "  </thead>\n",
       "  <tbody>\n",
       "    <tr>\n",
       "      <th>0</th>\n",
       "      <td>2019-09-24</td>\n",
       "      <td>Debt collection</td>\n",
       "      <td>I do not know</td>\n",
       "      <td>Attempts to collect debt not owed</td>\n",
       "      <td>Debt is not yours</td>\n",
       "      <td>transworld systems inc. \\nis trying to collect...</td>\n",
       "      <td>NaN</td>\n",
       "      <td>TRANSWORLD SYSTEMS INC</td>\n",
       "      <td>FL</td>\n",
       "      <td>335XX</td>\n",
       "      <td>NaN</td>\n",
       "      <td>Consent provided</td>\n",
       "      <td>Web</td>\n",
       "      <td>2019-09-24</td>\n",
       "      <td>Closed with explanation</td>\n",
       "      <td>Yes</td>\n",
       "      <td>NaN</td>\n",
       "      <td>3384392</td>\n",
       "    </tr>\n",
       "    <tr>\n",
       "      <th>1</th>\n",
       "      <td>2019-09-19</td>\n",
       "      <td>Credit reporting, credit repair services, or o...</td>\n",
       "      <td>Credit reporting</td>\n",
       "      <td>Incorrect information on your report</td>\n",
       "      <td>Information belongs to someone else</td>\n",
       "      <td>NaN</td>\n",
       "      <td>Company has responded to the consumer and the ...</td>\n",
       "      <td>Experian Information Solutions Inc.</td>\n",
       "      <td>PA</td>\n",
       "      <td>15206</td>\n",
       "      <td>NaN</td>\n",
       "      <td>Consent not provided</td>\n",
       "      <td>Web</td>\n",
       "      <td>2019-09-20</td>\n",
       "      <td>Closed with non-monetary relief</td>\n",
       "      <td>Yes</td>\n",
       "      <td>NaN</td>\n",
       "      <td>3379500</td>\n",
       "    </tr>\n",
       "    <tr>\n",
       "      <th>2</th>\n",
       "      <td>2019-11-08</td>\n",
       "      <td>Debt collection</td>\n",
       "      <td>I do not know</td>\n",
       "      <td>Communication tactics</td>\n",
       "      <td>Frequent or repeated calls</td>\n",
       "      <td>Over the past 2 weeks, I have been receiving e...</td>\n",
       "      <td>NaN</td>\n",
       "      <td>Diversified Consultants, Inc.</td>\n",
       "      <td>NC</td>\n",
       "      <td>275XX</td>\n",
       "      <td>NaN</td>\n",
       "      <td>Consent provided</td>\n",
       "      <td>Web</td>\n",
       "      <td>2019-11-08</td>\n",
       "      <td>Closed with explanation</td>\n",
       "      <td>Yes</td>\n",
       "      <td>NaN</td>\n",
       "      <td>3433198</td>\n",
       "    </tr>\n",
       "    <tr>\n",
       "      <th>3</th>\n",
       "      <td>2021-04-14</td>\n",
       "      <td>Debt collection</td>\n",
       "      <td>Credit card debt</td>\n",
       "      <td>Attempts to collect debt not owed</td>\n",
       "      <td>Debt was paid</td>\n",
       "      <td>NaN</td>\n",
       "      <td>NaN</td>\n",
       "      <td>ENCORE CAPITAL GROUP INC.</td>\n",
       "      <td>VA</td>\n",
       "      <td>238XX</td>\n",
       "      <td>NaN</td>\n",
       "      <td>NaN</td>\n",
       "      <td>Web</td>\n",
       "      <td>2021-04-14</td>\n",
       "      <td>Closed with explanation</td>\n",
       "      <td>Yes</td>\n",
       "      <td>NaN</td>\n",
       "      <td>4295157</td>\n",
       "    </tr>\n",
       "    <tr>\n",
       "      <th>4</th>\n",
       "      <td>2021-04-21</td>\n",
       "      <td>Debt collection</td>\n",
       "      <td>I do not know</td>\n",
       "      <td>Attempts to collect debt not owed</td>\n",
       "      <td>Debt is not yours</td>\n",
       "      <td>NaN</td>\n",
       "      <td>Company believes it acted appropriately as aut...</td>\n",
       "      <td>Choice Recovery, Inc.</td>\n",
       "      <td>FL</td>\n",
       "      <td>322XX</td>\n",
       "      <td>NaN</td>\n",
       "      <td>NaN</td>\n",
       "      <td>Web</td>\n",
       "      <td>2021-04-21</td>\n",
       "      <td>Closed with explanation</td>\n",
       "      <td>Yes</td>\n",
       "      <td>NaN</td>\n",
       "      <td>4315858</td>\n",
       "    </tr>\n",
       "  </tbody>\n",
       "</table>\n",
       "</div>"
      ],
      "text/plain": [
       "  Date received                                            Product  \\\n",
       "0    2019-09-24                                    Debt collection   \n",
       "1    2019-09-19  Credit reporting, credit repair services, or o...   \n",
       "2    2019-11-08                                    Debt collection   \n",
       "3    2021-04-14                                    Debt collection   \n",
       "4    2021-04-21                                    Debt collection   \n",
       "\n",
       "        Sub-product                                 Issue  \\\n",
       "0     I do not know     Attempts to collect debt not owed   \n",
       "1  Credit reporting  Incorrect information on your report   \n",
       "2     I do not know                 Communication tactics   \n",
       "3  Credit card debt     Attempts to collect debt not owed   \n",
       "4     I do not know     Attempts to collect debt not owed   \n",
       "\n",
       "                             Sub-issue  \\\n",
       "0                    Debt is not yours   \n",
       "1  Information belongs to someone else   \n",
       "2           Frequent or repeated calls   \n",
       "3                        Debt was paid   \n",
       "4                    Debt is not yours   \n",
       "\n",
       "                        Consumer complaint narrative  \\\n",
       "0  transworld systems inc. \\nis trying to collect...   \n",
       "1                                                NaN   \n",
       "2  Over the past 2 weeks, I have been receiving e...   \n",
       "3                                                NaN   \n",
       "4                                                NaN   \n",
       "\n",
       "                             Company public response  \\\n",
       "0                                                NaN   \n",
       "1  Company has responded to the consumer and the ...   \n",
       "2                                                NaN   \n",
       "3                                                NaN   \n",
       "4  Company believes it acted appropriately as aut...   \n",
       "\n",
       "                               Company State ZIP code Tags  \\\n",
       "0               TRANSWORLD SYSTEMS INC    FL    335XX  NaN   \n",
       "1  Experian Information Solutions Inc.    PA    15206  NaN   \n",
       "2        Diversified Consultants, Inc.    NC    275XX  NaN   \n",
       "3            ENCORE CAPITAL GROUP INC.    VA    238XX  NaN   \n",
       "4                Choice Recovery, Inc.    FL    322XX  NaN   \n",
       "\n",
       "  Consumer consent provided? Submitted via Date sent to company  \\\n",
       "0           Consent provided           Web           2019-09-24   \n",
       "1       Consent not provided           Web           2019-09-20   \n",
       "2           Consent provided           Web           2019-11-08   \n",
       "3                        NaN           Web           2021-04-14   \n",
       "4                        NaN           Web           2021-04-21   \n",
       "\n",
       "      Company response to consumer Timely response? Consumer disputed?  \\\n",
       "0          Closed with explanation              Yes                NaN   \n",
       "1  Closed with non-monetary relief              Yes                NaN   \n",
       "2          Closed with explanation              Yes                NaN   \n",
       "3          Closed with explanation              Yes                NaN   \n",
       "4          Closed with explanation              Yes                NaN   \n",
       "\n",
       "   Complaint ID  \n",
       "0       3384392  \n",
       "1       3379500  \n",
       "2       3433198  \n",
       "3       4295157  \n",
       "4       4315858  "
      ]
     },
     "execution_count": 6,
     "metadata": {},
     "output_type": "execute_result"
    }
   ],
   "source": [
    "complaints_df_v0.head()"
   ]
  },
  {
   "cell_type": "markdown",
   "id": "13451894",
   "metadata": {},
   "source": [
    "## Data cleaning and filtering"
   ]
  },
  {
   "cell_type": "markdown",
   "id": "dbdbfc8c",
   "metadata": {},
   "source": [
    "#### Remove unnecessary columns to keep only the text and the product"
   ]
  },
  {
   "cell_type": "code",
   "execution_count": 7,
   "id": "cfcce62b",
   "metadata": {},
   "outputs": [
    {
     "data": {
      "text/plain": [
       "(259332, 2)"
      ]
     },
     "execution_count": 7,
     "metadata": {},
     "output_type": "execute_result"
    }
   ],
   "source": [
    "# Create a new dataframe with two columns\n",
    "complaints_df_v1 = complaints_df_v0[['Product', 'Consumer complaint narrative']].copy()\n",
    "\n",
    "# Remove missing values (NaN)\n",
    "complaints_df_v1 = complaints_df_v1[pd.notnull(complaints_df_v1['Consumer complaint narrative'])]\n",
    "\n",
    "# Renaming second column for a simpler name\n",
    "complaints_df_v1.columns = ['Product', 'Consumer_complaint'] \n",
    "\n",
    "complaints_df_v1.shape"
   ]
  },
  {
   "cell_type": "markdown",
   "id": "8747dd88",
   "metadata": {},
   "source": [
    "##### Quick look at the distribution of the complaints lenght"
   ]
  },
  {
   "cell_type": "code",
   "execution_count": 9,
   "id": "2c24127e",
   "metadata": {},
   "outputs": [
    {
     "data": {
      "image/png": "[encoded data removed]",
      "text/plain": [
       "<Figure size 432x288 with 1 Axes>"
      ]
     },
     "metadata": {
      "needs_background": "light"
     },
     "output_type": "display_data"
    },
    {
     "name": "stdout",
     "output_type": "stream",
     "text": [
      "Minimum number of character per complaints :  4\n"
     ]
    }
   ],
   "source": [
    "complaints_lenghts = complaints_df_v1.Consumer_complaint.apply(len)\n",
    "plt.title(\"Distribution of complaints lenght shorter that 3000 characters:\")\n",
    "complaints_lenghts[complaints_lenghts < 3000].hist(bins=40)\n",
    "plt.show()\n",
    "print(\"Minimum number of character per complaints : \", complaints_lenghts.min())"
   ]
  },
  {
   "cell_type": "markdown",
   "id": "ba39510a",
   "metadata": {},
   "source": [
    "#### Rename the products categories to make it easier to use "
   ]
  },
  {
   "cell_type": "code",
   "execution_count": 11,
   "id": "711af589",
   "metadata": {},
   "outputs": [],
   "source": [
    "# Renaming categories\n",
    "complaints_df_v1.replace({'Product': \n",
    "                          {'Credit reporting, credit repair services, or other personal consumer reports': \n",
    "                           'Credit reporting, repair, or other', \n",
    "                           'Credit reporting': 'Credit reporting, repair, or other',\n",
    "                          'Credit card': 'Credit card or prepaid card',\n",
    "                          'Prepaid card': 'Credit card or prepaid card',\n",
    "                          'Payday loan': 'Payday loan, title loan, or personal loan',\n",
    "                          'Money transfer': 'Money transfer, virtual currency, or money service',\n",
    "                          'Virtual currency': 'Money transfer, virtual currency, or money service'}}, \n",
    "                         inplace=True)"
   ]
  },
  {
   "cell_type": "markdown",
   "id": "49927327",
   "metadata": {},
   "source": [
    "#### Select only the significant categories (with at least 1000 example in the whole dataset"
   ]
  },
  {
   "cell_type": "code",
   "execution_count": 12,
   "id": "524627b3",
   "metadata": {},
   "outputs": [
    {
     "data": {
      "text/plain": [
       "Credit reporting, repair, or other                    133453\n",
       "Debt collection                                        44311\n",
       "Credit card or prepaid card                            25388\n",
       "Mortgage                                               19527\n",
       "Checking or savings account                            14195\n",
       "Money transfer, virtual currency, or money service      6690\n",
       "Vehicle loan or lease                                   5860\n",
       "Student loan                                            5645\n",
       "Payday loan, title loan, or personal loan               4173\n",
       "Name: Product, dtype: int64"
      ]
     },
     "execution_count": 12,
     "metadata": {},
     "output_type": "execute_result"
    }
   ],
   "source": [
    "important_product_value_counts = complaints_df_v1.Product.value_counts()[complaints_df_v1.Product.value_counts() > 1000]\n",
    "important_product = important_product_value_counts.index\n",
    "important_product_value_counts"
   ]
  },
  {
   "cell_type": "code",
   "execution_count": 13,
   "id": "7afc796e",
   "metadata": {},
   "outputs": [],
   "source": [
    "# Because the computation is time consuming (in terms of CPU), the data was sampled\n",
    "complaints_df = complaints_df_v1[complaints_df_v1.Product.isin(important_product)].sample(10000, random_state=1).copy()"
   ]
  },
  {
   "cell_type": "code",
   "execution_count": 14,
   "id": "9c329b50",
   "metadata": {},
   "outputs": [
    {
     "data": {
      "text/html": [
       "<div>\n",
       "<style scoped>\n",
       "    .dataframe tbody tr th:only-of-type {\n",
       "        vertical-align: middle;\n",
       "    }\n",
       "\n",
       "    .dataframe tbody tr th {\n",
       "        vertical-align: top;\n",
       "    }\n",
       "\n",
       "    .dataframe thead th {\n",
       "        text-align: right;\n",
       "    }\n",
       "</style>\n",
       "<table border=\"1\" class=\"dataframe\">\n",
       "  <thead>\n",
       "    <tr style=\"text-align: right;\">\n",
       "      <th></th>\n",
       "      <th>0</th>\n",
       "    </tr>\n",
       "  </thead>\n",
       "  <tbody>\n",
       "    <tr>\n",
       "      <th>0</th>\n",
       "      <td>Credit reporting, repair, or other</td>\n",
       "    </tr>\n",
       "    <tr>\n",
       "      <th>1</th>\n",
       "      <td>Debt collection</td>\n",
       "    </tr>\n",
       "    <tr>\n",
       "      <th>2</th>\n",
       "      <td>Mortgage</td>\n",
       "    </tr>\n",
       "    <tr>\n",
       "      <th>3</th>\n",
       "      <td>Vehicle loan or lease</td>\n",
       "    </tr>\n",
       "    <tr>\n",
       "      <th>4</th>\n",
       "      <td>Credit card or prepaid card</td>\n",
       "    </tr>\n",
       "    <tr>\n",
       "      <th>5</th>\n",
       "      <td>Money transfer, virtual currency, or money ser...</td>\n",
       "    </tr>\n",
       "    <tr>\n",
       "      <th>6</th>\n",
       "      <td>Payday loan, title loan, or personal loan</td>\n",
       "    </tr>\n",
       "    <tr>\n",
       "      <th>7</th>\n",
       "      <td>Checking or savings account</td>\n",
       "    </tr>\n",
       "    <tr>\n",
       "      <th>8</th>\n",
       "      <td>Student loan</td>\n",
       "    </tr>\n",
       "  </tbody>\n",
       "</table>\n",
       "</div>"
      ],
      "text/plain": [
       "                                                   0\n",
       "0                 Credit reporting, repair, or other\n",
       "1                                    Debt collection\n",
       "2                                           Mortgage\n",
       "3                              Vehicle loan or lease\n",
       "4                        Credit card or prepaid card\n",
       "5  Money transfer, virtual currency, or money ser...\n",
       "6          Payday loan, title loan, or personal loan\n",
       "7                        Checking or savings account\n",
       "8                                       Student loan"
      ]
     },
     "execution_count": 14,
     "metadata": {},
     "output_type": "execute_result"
    }
   ],
   "source": [
    "pd.DataFrame(complaints_df.Product.unique())"
   ]
  },
  {
   "cell_type": "markdown",
   "id": "db3c6fbc",
   "metadata": {},
   "source": [
    "#### Create category ID"
   ]
  },
  {
   "cell_type": "code",
   "execution_count": 15,
   "id": "87b8d389",
   "metadata": {},
   "outputs": [
    {
     "data": {
      "text/html": [
       "<div>\n",
       "<style scoped>\n",
       "    .dataframe tbody tr th:only-of-type {\n",
       "        vertical-align: middle;\n",
       "    }\n",
       "\n",
       "    .dataframe tbody tr th {\n",
       "        vertical-align: top;\n",
       "    }\n",
       "\n",
       "    .dataframe thead th {\n",
       "        text-align: right;\n",
       "    }\n",
       "</style>\n",
       "<table border=\"1\" class=\"dataframe\">\n",
       "  <thead>\n",
       "    <tr style=\"text-align: right;\">\n",
       "      <th></th>\n",
       "      <th>Product</th>\n",
       "      <th>Consumer_complaint</th>\n",
       "      <th>category_id</th>\n",
       "    </tr>\n",
       "  </thead>\n",
       "  <tbody>\n",
       "    <tr>\n",
       "      <th>358973</th>\n",
       "      <td>Credit reporting, repair, or other</td>\n",
       "      <td>XXXX XXXX XXXX - Their name is listed on my Ex...</td>\n",
       "      <td>0</td>\n",
       "    </tr>\n",
       "    <tr>\n",
       "      <th>465918</th>\n",
       "      <td>Credit reporting, repair, or other</td>\n",
       "      <td>XX/XX/2020 I called because I had received a l...</td>\n",
       "      <td>0</td>\n",
       "    </tr>\n",
       "    <tr>\n",
       "      <th>248251</th>\n",
       "      <td>Debt collection</td>\n",
       "      <td>I owed a credit card debt with XXXX XXXX which...</td>\n",
       "      <td>1</td>\n",
       "    </tr>\n",
       "    <tr>\n",
       "      <th>493781</th>\n",
       "      <td>Mortgage</td>\n",
       "      <td>We are refinancing our loan and the bank that ...</td>\n",
       "      <td>2</td>\n",
       "    </tr>\n",
       "    <tr>\n",
       "      <th>180003</th>\n",
       "      <td>Credit reporting, repair, or other</td>\n",
       "      <td>HAVE CONTACTED THE CREDIT BUREAUS ON NUMEROUS ...</td>\n",
       "      <td>0</td>\n",
       "    </tr>\n",
       "  </tbody>\n",
       "</table>\n",
       "</div>"
      ],
      "text/plain": [
       "                                   Product  \\\n",
       "358973  Credit reporting, repair, or other   \n",
       "465918  Credit reporting, repair, or other   \n",
       "248251                     Debt collection   \n",
       "493781                            Mortgage   \n",
       "180003  Credit reporting, repair, or other   \n",
       "\n",
       "                                       Consumer_complaint  category_id  \n",
       "358973  XXXX XXXX XXXX - Their name is listed on my Ex...            0  \n",
       "465918  XX/XX/2020 I called because I had received a l...            0  \n",
       "248251  I owed a credit card debt with XXXX XXXX which...            1  \n",
       "493781  We are refinancing our loan and the bank that ...            2  \n",
       "180003  HAVE CONTACTED THE CREDIT BUREAUS ON NUMEROUS ...            0  "
      ]
     },
     "execution_count": 15,
     "metadata": {},
     "output_type": "execute_result"
    }
   ],
   "source": [
    "#  Create a new column 'category_id' with encoded categories \n",
    "complaints_df['category_id'] = complaints_df['Product'].factorize()[0]\n",
    "category_id_df = complaints_df[['Product', 'category_id']].drop_duplicates()\n",
    "\n",
    "\n",
    "# Dictionaries for future use\n",
    "category_to_id = dict(category_id_df.values)\n",
    "id_to_category = dict(category_id_df[['category_id', 'Product']].values)\n",
    "\n",
    "# New dataframe\n",
    "complaints_df.head()"
   ]
  },
  {
   "cell_type": "code",
   "execution_count": 17,
   "id": "7d7f9cc8",
   "metadata": {},
   "outputs": [
    {
     "data": {
      "image/png": "[encoded data removed]",
      "text/plain": [
       "<Figure size 576x432 with 1 Axes>"
      ]
     },
     "metadata": {
      "needs_background": "light"
     },
     "output_type": "display_data"
    }
   ],
   "source": [
    "fig = plt.figure(figsize=(8,6))\n",
    "complaints_df.groupby('Product').Consumer_complaint.count().sort_values().plot.barh(\n",
    "    ylim=0, title= 'NUMBER OF COMPLAINTS IN EACH PRODUCT CATEGORY\\n')\n",
    "plt.xlabel('Number of ocurrences', fontsize = 10);"
   ]
  },
  {
   "cell_type": "markdown",
   "id": "40d0ce88",
   "metadata": {},
   "source": [
    "## TF-IDF "
   ]
  },
  {
   "cell_type": "markdown",
   "id": "da6ca3fb",
   "metadata": {},
   "source": [
    "TF-IDF is a statistical measure that evaluates how relevant a word is to a document in a collection of documents. This is done by multiplying two metrics: how many times a word appears in a document, and the inverse document frequency of the word across a set of documents.\n",
    "\n",
    "##### Term Frequency:\n",
    "\n",
    "$$TF  = \\frac{NTD}{NWD}$$\n",
    "\n",
    "with:\n",
    "\n",
    "- NTD: The number of times the word appear in the document.\n",
    "- NWD: The total number of words in the docuemnt.\n",
    "\n",
    "##### Inverted Docuement Frequency:\n",
    "\n",
    "$$IDF  = ln(\\frac{ND}{NDT})$$\n",
    "\n",
    "with:\n",
    "\n",
    "- ND: The total number of documents.\n",
    "- NWD: The number of documents containing the term.\n",
    "\n",
    "##### TFIDF:\n",
    "\n",
    "$$ TF-IDF = \\frac{TF}{IDF}$$"
   ]
  },
  {
   "cell_type": "code",
   "execution_count": 20,
   "id": "36c7e9b6",
   "metadata": {},
   "outputs": [
    {
     "name": "stdout",
     "output_type": "stream",
     "text": [
      "Each of the 10000 complaints is represented by 26620 features (TF-IDF score of unigrams and bigrams)\n"
     ]
    }
   ],
   "source": [
    "tfidf = TfidfVectorizer(sublinear_tf=True, min_df=5,\n",
    "                        ngram_range=(1, 2), \n",
    "                        stop_words='english')\n",
    "\n",
    "# We transform each complaint into a vector\n",
    "features = tfidf.fit_transform(complaints_df.Consumer_complaint).toarray()\n",
    "\n",
    "labels = complaints_df.category_id\n",
    "\n",
    "print(\"Each of the %d complaints is represented by %d features (TF-IDF score of unigrams and bigrams)\" %(features.shape))"
   ]
  },
  {
   "cell_type": "markdown",
   "id": "9c1f1345",
   "metadata": {},
   "source": [
    "## Check the top 5 words which are the most correlated with each product"
   ]
  },
  {
   "cell_type": "code",
   "execution_count": 22,
   "id": "bec25c48",
   "metadata": {},
   "outputs": [
    {
     "name": "stdout",
     "output_type": "stream",
     "text": [
      "\n",
      "==> Checking or savings account:\n",
      "  * Most Correlated Unigrams are: overdraft, branch, checking, bank, deposit\n",
      "  * Most Correlated Bigrams are: debit card, 00 bonus, overdraft fees, savings account, checking account\n",
      "\n",
      "==> Credit card or prepaid card:\n",
      "  * Most Correlated Unigrams are: charges, synchrony, citi, express, card\n",
      "  * Most Correlated Bigrams are: new card, use card, synchrony bank, american express, credit card\n",
      "\n",
      "==> Credit reporting, repair, or other:\n",
      "  * Most Correlated Unigrams are: equifax, reporting, experian, report, accounts\n",
      "  * Most Correlated Bigrams are: fraudulent accounts, victim identity, credit bureaus, identity theft, credit report\n",
      "\n",
      "==> Debt collection:\n",
      "  * Most Correlated Unigrams are: owe, recovery, collect, collection, debt\n",
      "  * Most Correlated Bigrams are: debt collector, debt collection, debt does, collection agency, collect debt\n",
      "\n",
      "==> Money transfer, virtual currency, or money service:\n",
      "  * Most Correlated Unigrams are: cash, app, cashapp, coinbase, paypal\n",
      "  * Most Correlated Bigrams are: paypal xxxx, sent money, xxxx paypal, paypal account, cash app\n",
      "\n",
      "==> Mortgage:\n",
      "  * Most Correlated Unigrams are: property, servicing, modification, escrow, mortgage\n",
      "  * Most Correlated Bigrams are: freedom mortgage, loan modification, mortgage payment, escrow account, mortgage company\n",
      "\n",
      "==> Payday loan, title loan, or personal loan:\n",
      "  * Most Correlated Unigrams are: main, speedy, club, lion, loan\n",
      "  * Most Correlated Bigrams are: main financial, loan main, 00 loan, charged loan, title loan\n",
      "\n",
      "==> Student loan:\n",
      "  * Most Correlated Unigrams are: pslf, forgiveness, loans, repayment, navient\n",
      "  * Most Correlated Bigrams are: based repayment, income based, student loan, public service, loan forgiveness\n",
      "\n",
      "==> Vehicle loan or lease:\n",
      "  * Most Correlated Unigrams are: dealership, warranty, hyundai, vehicle, car\n",
      "  * Most Correlated Bigrams are: bought car, took car, gm financial, honda financial, motor finance\n"
     ]
    }
   ],
   "source": [
    "# Finding the three most correlated terms with each of the product categories\n",
    "N = 5\n",
    "for Product, category_id in sorted(category_to_id.items()):\n",
    "    features_chi2 = chi2(features, labels == category_id)\n",
    "    indices = np.argsort(features_chi2[0])\n",
    "    feature_names = np.array(tfidf.get_feature_names())[indices]\n",
    "    unigrams = [v for v in feature_names if len(v.split(' ')) == 1]\n",
    "    bigrams = [v for v in feature_names if len(v.split(' ')) == 2]\n",
    "    print(\"\\n==> %s:\" %(Product))\n",
    "    print(\"  * Most Correlated Unigrams are: %s\" %(', '.join(unigrams[-N:])))\n",
    "    print(\"  * Most Correlated Bigrams are: %s\" %(', '.join(bigrams[-N:])))"
   ]
  },
  {
   "cell_type": "markdown",
   "id": "fbc352ac",
   "metadata": {},
   "source": [
    "## Train the models\n",
    "### Split train and test sets"
   ]
  },
  {
   "cell_type": "code",
   "execution_count": 23,
   "id": "e2f3c427",
   "metadata": {},
   "outputs": [],
   "source": [
    "X = complaints_df['Consumer_complaint'] # Collection of documents\n",
    "y = complaints_df['Product'] # Target or the labels we want to predict (i.e., the 13 different complaints of products)\n",
    "\n",
    "X_train, X_test, y_train, y_test = train_test_split(X, y, \n",
    "                                                    test_size=0.25,\n",
    "                                                    random_state = 0)"
   ]
  },
  {
   "cell_type": "markdown",
   "id": "f2a4d731",
   "metadata": {},
   "source": [
    "### Build and train models\n",
    "\n",
    "To estimate the models performance we use a cross validation with 5 folds."
   ]
  },
  {
   "cell_type": "code",
   "execution_count": 24,
   "id": "4042244c",
   "metadata": {},
   "outputs": [
    {
     "name": "stderr",
     "output_type": "stream",
     "text": [
      "/opt/conda/lib/python3.7/site-packages/sklearn/linear_model/_logistic.py:765: ConvergenceWarning: lbfgs failed to converge (status=1):\n",
      "STOP: TOTAL NO. of ITERATIONS REACHED LIMIT.\n",
      "\n",
      "Increase the number of iterations (max_iter) or scale the data as shown in:\n",
      "    https://scikit-learn.org/stable/modules/preprocessing.html\n",
      "Please also refer to the documentation for alternative solver options:\n",
      "    https://scikit-learn.org/stable/modules/linear_model.html#logistic-regression\n",
      "  extra_warning_msg=_LOGISTIC_SOLVER_CONVERGENCE_MSG)\n",
      "/opt/conda/lib/python3.7/site-packages/sklearn/linear_model/_logistic.py:765: ConvergenceWarning: lbfgs failed to converge (status=1):\n",
      "STOP: TOTAL NO. of ITERATIONS REACHED LIMIT.\n",
      "\n",
      "Increase the number of iterations (max_iter) or scale the data as shown in:\n",
      "    https://scikit-learn.org/stable/modules/preprocessing.html\n",
      "Please also refer to the documentation for alternative solver options:\n",
      "    https://scikit-learn.org/stable/modules/linear_model.html#logistic-regression\n",
      "  extra_warning_msg=_LOGISTIC_SOLVER_CONVERGENCE_MSG)\n",
      "/opt/conda/lib/python3.7/site-packages/sklearn/linear_model/_logistic.py:765: ConvergenceWarning: lbfgs failed to converge (status=1):\n",
      "STOP: TOTAL NO. of ITERATIONS REACHED LIMIT.\n",
      "\n",
      "Increase the number of iterations (max_iter) or scale the data as shown in:\n",
      "    https://scikit-learn.org/stable/modules/preprocessing.html\n",
      "Please also refer to the documentation for alternative solver options:\n",
      "    https://scikit-learn.org/stable/modules/linear_model.html#logistic-regression\n",
      "  extra_warning_msg=_LOGISTIC_SOLVER_CONVERGENCE_MSG)\n",
      "/opt/conda/lib/python3.7/site-packages/sklearn/linear_model/_logistic.py:765: ConvergenceWarning: lbfgs failed to converge (status=1):\n",
      "STOP: TOTAL NO. of ITERATIONS REACHED LIMIT.\n",
      "\n",
      "Increase the number of iterations (max_iter) or scale the data as shown in:\n",
      "    https://scikit-learn.org/stable/modules/preprocessing.html\n",
      "Please also refer to the documentation for alternative solver options:\n",
      "    https://scikit-learn.org/stable/modules/linear_model.html#logistic-regression\n",
      "  extra_warning_msg=_LOGISTIC_SOLVER_CONVERGENCE_MSG)\n",
      "/opt/conda/lib/python3.7/site-packages/sklearn/linear_model/_logistic.py:765: ConvergenceWarning: lbfgs failed to converge (status=1):\n",
      "STOP: TOTAL NO. of ITERATIONS REACHED LIMIT.\n",
      "\n",
      "Increase the number of iterations (max_iter) or scale the data as shown in:\n",
      "    https://scikit-learn.org/stable/modules/preprocessing.html\n",
      "Please also refer to the documentation for alternative solver options:\n",
      "    https://scikit-learn.org/stable/modules/linear_model.html#logistic-regression\n",
      "  extra_warning_msg=_LOGISTIC_SOLVER_CONVERGENCE_MSG)\n"
     ]
    }
   ],
   "source": [
    "models = [\n",
    "    RandomForestClassifier(n_estimators=100, max_depth=5, random_state=0),\n",
    "    LinearSVC(),\n",
    "    MultinomialNB(),\n",
    "    LogisticRegression(random_state=0),\n",
    "]\n",
    "\n",
    "# 5 Cross-validation\n",
    "CV = 5\n",
    "cv_df = pd.DataFrame(index=range(CV * len(models)))\n",
    "\n",
    "entries = []\n",
    "for model in models:\n",
    "    model_name = model.__class__.__name__\n",
    "    accuracies = cross_val_score(model, features, labels, scoring='accuracy', cv=CV)\n",
    "    for fold_idx, accuracy in enumerate(accuracies):\n",
    "        entries.append((model_name, fold_idx, accuracy))\n",
    "    \n",
    "cv_df = pd.DataFrame(entries, columns=['model_name', 'fold_idx', 'accuracy'])"
   ]
  },
  {
   "cell_type": "markdown",
   "id": "2c7621cc",
   "metadata": {},
   "source": [
    "### Model performance visualisation\n",
    "\n",
    "For each model we compute and visualise the average model accuracy and the standard deviation over the 5 folds."
   ]
  },
  {
   "cell_type": "code",
   "execution_count": 28,
   "id": "e088cddf",
   "metadata": {},
   "outputs": [
    {
     "data": {
      "text/html": [
       "<div>\n",
       "<style scoped>\n",
       "    .dataframe tbody tr th:only-of-type {\n",
       "        vertical-align: middle;\n",
       "    }\n",
       "\n",
       "    .dataframe tbody tr th {\n",
       "        vertical-align: top;\n",
       "    }\n",
       "\n",
       "    .dataframe thead th {\n",
       "        text-align: right;\n",
       "    }\n",
       "</style>\n",
       "<table border=\"1\" class=\"dataframe\">\n",
       "  <thead>\n",
       "    <tr style=\"text-align: right;\">\n",
       "      <th></th>\n",
       "      <th>Mean Accuracy</th>\n",
       "      <th>Standard deviation</th>\n",
       "    </tr>\n",
       "    <tr>\n",
       "      <th>model_name</th>\n",
       "      <th></th>\n",
       "      <th></th>\n",
       "    </tr>\n",
       "  </thead>\n",
       "  <tbody>\n",
       "    <tr>\n",
       "      <th>LinearSVC</th>\n",
       "      <td>0.8259</td>\n",
       "      <td>0.001851</td>\n",
       "    </tr>\n",
       "    <tr>\n",
       "      <th>LogisticRegression</th>\n",
       "      <td>0.8062</td>\n",
       "      <td>0.004251</td>\n",
       "    </tr>\n",
       "    <tr>\n",
       "      <th>MultinomialNB</th>\n",
       "      <td>0.6388</td>\n",
       "      <td>0.007488</td>\n",
       "    </tr>\n",
       "    <tr>\n",
       "      <th>RandomForestClassifier</th>\n",
       "      <td>0.5176</td>\n",
       "      <td>0.000418</td>\n",
       "    </tr>\n",
       "  </tbody>\n",
       "</table>\n",
       "</div>"
      ],
      "text/plain": [
       "                        Mean Accuracy  Standard deviation\n",
       "model_name                                               \n",
       "LinearSVC                      0.8259            0.001851\n",
       "LogisticRegression             0.8062            0.004251\n",
       "MultinomialNB                  0.6388            0.007488\n",
       "RandomForestClassifier         0.5176            0.000418"
      ]
     },
     "execution_count": 28,
     "metadata": {},
     "output_type": "execute_result"
    }
   ],
   "source": [
    "mean_accuracy = cv_df.groupby('model_name').accuracy.mean()\n",
    "std_accuracy = cv_df.groupby('model_name').accuracy.std()\n",
    "\n",
    "acc = pd.concat([mean_accuracy, std_accuracy], axis= 1, \n",
    "          ignore_index=True)\n",
    "acc.columns = ['Mean Accuracy', 'Standard deviation']\n",
    "acc"
   ]
  },
  {
   "cell_type": "markdown",
   "id": "19b17fe3",
   "metadata": {},
   "source": [
    "### Best model detailed performances\n",
    "\n",
    "As the Linear support vector classifier has the best performance in terms of accuracy,\n",
    "we retrain it and retest it on 25% percent of the dataset and look into the details of its prediction."
   ]
  },
  {
   "cell_type": "code",
   "execution_count": 29,
   "id": "317b3be8",
   "metadata": {},
   "outputs": [],
   "source": [
    "X_train, X_test, y_train, y_test,indices_train,indices_test = train_test_split(features, \n",
    "                                                               labels, \n",
    "                                                               complaints_df.index, test_size=0.25, \n",
    "                                                               random_state=1)\n",
    "model = LinearSVC()\n",
    "model.fit(X_train, y_train)\n",
    "y_pred = model.predict(X_test)"
   ]
  },
  {
   "cell_type": "markdown",
   "id": "f97b94de",
   "metadata": {},
   "source": [
    "### Detailed performance analysis \n",
    "\n",
    "We look for each of the product the follwoing metrics:\n",
    "- precision\n",
    "- recall\n",
    "- f1-score\n",
    "\n",
    "We also compute the macro average as well as the weighted average for each of those metrics over the whole test set."
   ]
  },
  {
   "cell_type": "code",
   "execution_count": 30,
   "id": "8b86bac0",
   "metadata": {},
   "outputs": [
    {
     "name": "stdout",
     "output_type": "stream",
     "text": [
      "\t\t\t\tCLASSIFICATIION METRICS\n",
      "\n",
      "                                                    precision    recall  f1-score   support\n",
      "\n",
      "                Credit reporting, repair, or other       0.85      0.93      0.89      1261\n",
      "                                   Debt collection       0.80      0.75      0.77       433\n",
      "                                          Mortgage       0.84      0.86      0.85       179\n",
      "                             Vehicle loan or lease       0.79      0.42      0.55        62\n",
      "                       Credit card or prepaid card       0.74      0.74      0.74       250\n",
      "Money transfer, virtual currency, or money service       0.67      0.50      0.57        58\n",
      "         Payday loan, title loan, or personal loan       0.80      0.17      0.28        48\n",
      "                       Checking or savings account       0.66      0.69      0.68       141\n",
      "                                      Student loan       0.88      0.62      0.72        68\n",
      "\n",
      "                                          accuracy                           0.82      2500\n",
      "                                         macro avg       0.78      0.63      0.67      2500\n",
      "                                      weighted avg       0.81      0.82      0.81      2500\n",
      "\n"
     ]
    }
   ],
   "source": [
    "# Classification report\n",
    "print('\\t\\t\\t\\tCLASSIFICATIION METRICS\\n')\n",
    "print(metrics.classification_report(y_test, y_pred, \n",
    "                                    target_names= complaints_df['Product'].unique()))"
   ]
  },
  {
   "cell_type": "markdown",
   "id": "3f0af0bb",
   "metadata": {},
   "source": [
    "### Confusion matrix\n",
    "\n",
    "We visualise the confusion matrix of the model on the test set."
   ]
  },
  {
   "cell_type": "code",
   "execution_count": 31,
   "id": "d80190a0",
   "metadata": {},
   "outputs": [
    {
     "data": {
      "image/png": "[encoded data removed]",
      "text/plain": [
       "<Figure size 576x576 with 2 Axes>"
      ]
     },
     "metadata": {
      "needs_background": "light"
     },
     "output_type": "display_data"
    }
   ],
   "source": [
    "conf_mat = confusion_matrix(y_test, y_pred)\n",
    "fig, ax = plt.subplots(figsize=(8,8))\n",
    "sns.heatmap(conf_mat, annot=True, cmap=\"Blues\", fmt='d',\n",
    "            xticklabels=category_id_df.Product.values, \n",
    "            yticklabels=category_id_df.Product.values)\n",
    "plt.ylabel('Actual')\n",
    "plt.xlabel('Predicted')\n",
    "plt.title(\"CONFUSION MATRIX - LinearSVC\\n\", size=16);"
   ]
  },
  {
   "cell_type": "markdown",
   "id": "661a7740",
   "metadata": {},
   "source": [
    "##### Observation:\n",
    "The model is doing well overall bu there is some products wich are harder to predict than other. Those harder labels are:\n",
    "- Vehicle loan or lease\n",
    "- Money transfer, virtual currency, or money service\n",
    "- Payday loan, title loan, or personal loan "
   ]
  },
  {
   "cell_type": "code",
   "execution_count": null,
   "id": "f4463fbd",
   "metadata": {},
   "outputs": [],
   "source": []
  }
 ],
 "metadata": {
  "environment": {
   "name": "common-cpu.m65",
   "type": "gcloud",
   "uri": "gcr.io/deeplearning-platform-release/base-cpu:m65"
  },
  "kernelspec": {
   "display_name": "Python 3",
   "language": "python",
   "name": "python3"
  },
  "language_info": {
   "codemirror_mode": {
    "name": "ipython",
    "version": 3
   },
   "file_extension": ".py",
   "mimetype": "text/x-python",
   "name": "python",
   "nbconvert_exporter": "python",
   "pygments_lexer": "ipython3",
   "version": "3.7.10"
  }
 },
 "nbformat": 4,
 "nbformat_minor": 5
}
